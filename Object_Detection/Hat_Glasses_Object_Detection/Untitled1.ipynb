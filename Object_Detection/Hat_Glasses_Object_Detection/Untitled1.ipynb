{
 "cells": [
  {
   "cell_type": "code",
   "execution_count": 1,
   "id": "05d89638",
   "metadata": {},
   "outputs": [],
   "source": [
    "import os\n",
    "import detectron2\n",
    "from detectron2.utils.logger import setup_logger\n",
    "setup_logger()\n",
    "\n",
    "# Import necessary modules from Detectron2\n",
    "from detectron2.engine import DefaultTrainer\n",
    "from detectron2.config import get_cfg\n",
    "from detectron2.data.datasets import register_coco_instances\n"
   ]
  },
  {
   "cell_type": "code",
   "execution_count": 2,
   "id": "4b6feda1",
   "metadata": {},
   "outputs": [],
   "source": [
    "# Define paths to your dataset and annotations\n",
    "train_image_dir = \"path/to/train/images\"\n",
    "train_annotation_file = \"path/to/train/annotations.json\""
   ]
  },
  {
   "cell_type": "code",
   "execution_count": 3,
   "id": "687e4faf",
   "metadata": {},
   "outputs": [],
   "source": [
    "# Register your custom dataset with Detectron2\n",
    "register_coco_instances(\"my_dataset_train\", {}, train_annotation_file, train_image_dir)\n"
   ]
  },
  {
   "cell_type": "code",
   "execution_count": 4,
   "id": "983e7cc8",
   "metadata": {},
   "outputs": [
    {
     "ename": "AssertionError",
     "evalue": "Config file 'path/to/your/config.yaml' does not exist!",
     "output_type": "error",
     "traceback": [
      "\u001b[1;31m---------------------------------------------------------------------------\u001b[0m",
      "\u001b[1;31mAssertionError\u001b[0m                            Traceback (most recent call last)",
      "Cell \u001b[1;32mIn[4], line 3\u001b[0m\n\u001b[0;32m      1\u001b[0m \u001b[38;5;66;03m# Load configuration file\u001b[39;00m\n\u001b[0;32m      2\u001b[0m cfg \u001b[38;5;241m=\u001b[39m get_cfg()\n\u001b[1;32m----> 3\u001b[0m \u001b[43mcfg\u001b[49m\u001b[38;5;241;43m.\u001b[39;49m\u001b[43mmerge_from_file\u001b[49m\u001b[43m(\u001b[49m\u001b[38;5;124;43m\"\u001b[39;49m\u001b[38;5;124;43mpath/to/your/config.yaml\u001b[39;49m\u001b[38;5;124;43m\"\u001b[39;49m\u001b[43m)\u001b[49m  \u001b[38;5;66;03m# Update with your configuration file path\u001b[39;00m\n\u001b[0;32m      4\u001b[0m cfg\u001b[38;5;241m.\u001b[39mMODEL\u001b[38;5;241m.\u001b[39mWEIGHTS \u001b[38;5;241m=\u001b[39m \u001b[38;5;124m\"\u001b[39m\u001b[38;5;124mpath/to/pretrained/model.pth\u001b[39m\u001b[38;5;124m\"\u001b[39m  \u001b[38;5;66;03m# Update with your pre-trained model weights\u001b[39;00m\n\u001b[0;32m      5\u001b[0m cfg\u001b[38;5;241m.\u001b[39mSOLVER\u001b[38;5;241m.\u001b[39mIMS_PER_BATCH \u001b[38;5;241m=\u001b[39m \u001b[38;5;241m2\u001b[39m  \u001b[38;5;66;03m# Batch size\u001b[39;00m\n",
      "File \u001b[1;32m~\\anaconda3\\envs\\Python3-10-Build\\lib\\site-packages\\detectron2\\config\\config.py:45\u001b[0m, in \u001b[0;36mCfgNode.merge_from_file\u001b[1;34m(self, cfg_filename, allow_unsafe)\u001b[0m\n\u001b[0;32m     37\u001b[0m \u001b[38;5;28;01mdef\u001b[39;00m \u001b[38;5;21mmerge_from_file\u001b[39m(\u001b[38;5;28mself\u001b[39m, cfg_filename: \u001b[38;5;28mstr\u001b[39m, allow_unsafe: \u001b[38;5;28mbool\u001b[39m \u001b[38;5;241m=\u001b[39m \u001b[38;5;28;01mTrue\u001b[39;00m) \u001b[38;5;241m-\u001b[39m\u001b[38;5;241m>\u001b[39m \u001b[38;5;28;01mNone\u001b[39;00m:\n\u001b[0;32m     38\u001b[0m \u001b[38;5;250m    \u001b[39m\u001b[38;5;124;03m\"\"\"\u001b[39;00m\n\u001b[0;32m     39\u001b[0m \u001b[38;5;124;03m    Load content from the given config file and merge it into self.\u001b[39;00m\n\u001b[0;32m     40\u001b[0m \n\u001b[1;32m   (...)\u001b[0m\n\u001b[0;32m     43\u001b[0m \u001b[38;5;124;03m        allow_unsafe: allow unsafe yaml syntax\u001b[39;00m\n\u001b[0;32m     44\u001b[0m \u001b[38;5;124;03m    \"\"\"\u001b[39;00m\n\u001b[1;32m---> 45\u001b[0m     \u001b[38;5;28;01massert\u001b[39;00m PathManager\u001b[38;5;241m.\u001b[39misfile(cfg_filename), \u001b[38;5;124mf\u001b[39m\u001b[38;5;124m\"\u001b[39m\u001b[38;5;124mConfig file \u001b[39m\u001b[38;5;124m'\u001b[39m\u001b[38;5;132;01m{\u001b[39;00mcfg_filename\u001b[38;5;132;01m}\u001b[39;00m\u001b[38;5;124m'\u001b[39m\u001b[38;5;124m does not exist!\u001b[39m\u001b[38;5;124m\"\u001b[39m\n\u001b[0;32m     46\u001b[0m     loaded_cfg \u001b[38;5;241m=\u001b[39m \u001b[38;5;28mself\u001b[39m\u001b[38;5;241m.\u001b[39mload_yaml_with_base(cfg_filename, allow_unsafe\u001b[38;5;241m=\u001b[39mallow_unsafe)\n\u001b[0;32m     47\u001b[0m     loaded_cfg \u001b[38;5;241m=\u001b[39m \u001b[38;5;28mtype\u001b[39m(\u001b[38;5;28mself\u001b[39m)(loaded_cfg)\n",
      "\u001b[1;31mAssertionError\u001b[0m: Config file 'path/to/your/config.yaml' does not exist!"
     ]
    }
   ],
   "source": [
    "# Load configuration file\n",
    "cfg = get_cfg()\n",
    "cfg.merge_from_file(\"path/to/your/config.yaml\")  # Update with your configuration file path\n",
    "cfg.MODEL.WEIGHTS = \"path/to/pretrained/model.pth\"  # Update with your pre-trained model weights\n",
    "cfg.SOLVER.IMS_PER_BATCH = 2  # Batch size\n",
    "cfg.SOLVER.BASE_LR = 0.00025  # Base learning rate\n",
    "cfg.SOLVER.MAX_ITER = 100  # Maximum number of training iterations\n",
    "cfg.MODEL.ROI_HEADS.BATCH_SIZE_PER_IMAGE = 128  # Number of ROIs per image\n",
    "cfg.MODEL.ROI_HEADS.NUM_CLASSES = 2  # Number of classes (excluding background"
   ]
  },
  {
   "cell_type": "code",
   "execution_count": null,
   "id": "d194912e",
   "metadata": {},
   "outputs": [],
   "source": []
  }
 ],
 "metadata": {
  "kernelspec": {
   "display_name": "Python 3 (ipykernel)",
   "language": "python",
   "name": "python3"
  },
  "language_info": {
   "codemirror_mode": {
    "name": "ipython",
    "version": 3
   },
   "file_extension": ".py",
   "mimetype": "text/x-python",
   "name": "python",
   "nbconvert_exporter": "python",
   "pygments_lexer": "ipython3",
   "version": "3.10.13"
  }
 },
 "nbformat": 4,
 "nbformat_minor": 5
}

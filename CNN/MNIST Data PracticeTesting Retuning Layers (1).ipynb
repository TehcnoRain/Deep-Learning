{
 "cells": [
  {
   "cell_type": "markdown",
   "id": "e1c23945",
   "metadata": {},
   "source": [
    "# MNIST Data Practice  / Testing Retuning Layers"
   ]
  },
  {
   "cell_type": "code",
   "execution_count": 1,
   "id": "f74833e1",
   "metadata": {},
   "outputs": [
    {
     "name": "stdout",
     "output_type": "stream",
     "text": [
      "WARNING:tensorflow:From C:\\Users\\shane\\anaconda3\\Lib\\site-packages\\keras\\src\\losses.py:2976: The name tf.losses.sparse_softmax_cross_entropy is deprecated. Please use tf.compat.v1.losses.sparse_softmax_cross_entropy instead.\n",
      "\n"
     ]
    }
   ],
   "source": [
    "import numpy as np\n",
    "import keras\n",
    "from keras import layers"
   ]
  },
  {
   "cell_type": "code",
   "execution_count": 2,
   "id": "ebc3aa2b",
   "metadata": {},
   "outputs": [
    {
     "name": "stdout",
     "output_type": "stream",
     "text": [
      "x_train shape: (60000, 28, 28, 1)\n",
      "60000 train samples\n",
      "10000 test samples\n"
     ]
    }
   ],
   "source": [
    "# Model / data parameters\n",
    "num_classes = 10\n",
    "input_shape = (28, 28, 1)\n",
    "\n",
    "# Load the data and split it between train and test sets\n",
    "(x_train, y_train), (x_test, y_test) = keras.datasets.mnist.load_data()\n",
    "\n",
    "# Scale images to the [0, 1] range\n",
    "x_train = x_train.astype(\"float32\") / 255\n",
    "x_test = x_test.astype(\"float32\") / 255\n",
    "# Make sure images have shape (28, 28, 1)\n",
    "x_train = np.expand_dims(x_train, -1)\n",
    "x_test = np.expand_dims(x_test, -1)\n",
    "print(\"x_train shape:\", x_train.shape)\n",
    "print(x_train.shape[0], \"train samples\")\n",
    "print(x_test.shape[0], \"test samples\")\n",
    "\n",
    "\n",
    "# convert class vectors to binary class matrices\n",
    "y_train = keras.utils.to_categorical(y_train, num_classes)\n",
    "y_test = keras.utils.to_categorical(y_test, num_classes)"
   ]
  },
  {
   "cell_type": "code",
   "execution_count": 3,
   "id": "1c976e02",
   "metadata": {
    "scrolled": true
   },
   "outputs": [
    {
     "name": "stdout",
     "output_type": "stream",
     "text": [
      "WARNING:tensorflow:From C:\\Users\\shane\\anaconda3\\Lib\\site-packages\\keras\\src\\backend.py:1398: The name tf.executing_eagerly_outside_functions is deprecated. Please use tf.compat.v1.executing_eagerly_outside_functions instead.\n",
      "\n",
      "WARNING:tensorflow:From C:\\Users\\shane\\anaconda3\\Lib\\site-packages\\keras\\src\\layers\\pooling\\max_pooling2d.py:161: The name tf.nn.max_pool is deprecated. Please use tf.nn.max_pool2d instead.\n",
      "\n",
      "Model: \"sequential\"\n",
      "_________________________________________________________________\n",
      " Layer (type)                Output Shape              Param #   \n",
      "=================================================================\n",
      " conv2d (Conv2D)             (None, 26, 26, 32)        320       \n",
      "                                                                 \n",
      " max_pooling2d (MaxPooling2  (None, 13, 13, 32)        0         \n",
      " D)                                                              \n",
      "                                                                 \n",
      " conv2d_1 (Conv2D)           (None, 11, 11, 64)        18496     \n",
      "                                                                 \n",
      " max_pooling2d_1 (MaxPoolin  (None, 5, 5, 64)          0         \n",
      " g2D)                                                            \n",
      "                                                                 \n",
      " flatten (Flatten)           (None, 1600)              0         \n",
      "                                                                 \n",
      " dropout (Dropout)           (None, 1600)              0         \n",
      "                                                                 \n",
      " dense (Dense)               (None, 10)                16010     \n",
      "                                                                 \n",
      "=================================================================\n",
      "Total params: 34826 (136.04 KB)\n",
      "Trainable params: 34826 (136.04 KB)\n",
      "Non-trainable params: 0 (0.00 Byte)\n",
      "_________________________________________________________________\n"
     ]
    }
   ],
   "source": [
    "model = keras.Sequential(\n",
    "    [\n",
    "        keras.Input(shape=input_shape),\n",
    "        layers.Conv2D(32, kernel_size=(3, 3), activation=\"relu\"),\n",
    "        layers.MaxPooling2D(pool_size=(2, 2)),\n",
    "        layers.Conv2D(64, kernel_size=(3, 3), activation=\"relu\"),\n",
    "        layers.MaxPooling2D(pool_size=(2, 2)),\n",
    "        layers.Flatten(),\n",
    "        layers.Dropout(0.5),\n",
    "        layers.Dense(num_classes, activation=\"softmax\"),\n",
    "    ]\n",
    ")\n",
    "\n",
    "model.summary()"
   ]
  },
  {
   "cell_type": "code",
   "execution_count": 4,
   "id": "dfa54443",
   "metadata": {},
   "outputs": [
    {
     "name": "stdout",
     "output_type": "stream",
     "text": [
      "WARNING:tensorflow:From C:\\Users\\shane\\anaconda3\\Lib\\site-packages\\keras\\src\\optimizers\\__init__.py:309: The name tf.train.Optimizer is deprecated. Please use tf.compat.v1.train.Optimizer instead.\n",
      "\n",
      "Epoch 1/15\n",
      "WARNING:tensorflow:From C:\\Users\\shane\\anaconda3\\Lib\\site-packages\\keras\\src\\utils\\tf_utils.py:492: The name tf.ragged.RaggedTensorValue is deprecated. Please use tf.compat.v1.ragged.RaggedTensorValue instead.\n",
      "\n",
      "WARNING:tensorflow:From C:\\Users\\shane\\anaconda3\\Lib\\site-packages\\keras\\src\\engine\\base_layer_utils.py:384: The name tf.executing_eagerly_outside_functions is deprecated. Please use tf.compat.v1.executing_eagerly_outside_functions instead.\n",
      "\n",
      "422/422 [==============================] - 23s 50ms/step - loss: 0.3750 - accuracy: 0.8875 - val_loss: 0.0889 - val_accuracy: 0.9748\n",
      "Epoch 2/15\n",
      "422/422 [==============================] - 17s 41ms/step - loss: 0.1112 - accuracy: 0.9660 - val_loss: 0.0585 - val_accuracy: 0.9835\n",
      "Epoch 3/15\n",
      "422/422 [==============================] - 20s 48ms/step - loss: 0.0834 - accuracy: 0.9743 - val_loss: 0.0510 - val_accuracy: 0.9870\n",
      "Epoch 4/15\n",
      "422/422 [==============================] - 22s 52ms/step - loss: 0.0718 - accuracy: 0.9773 - val_loss: 0.0426 - val_accuracy: 0.9890\n",
      "Epoch 5/15\n",
      "422/422 [==============================] - 22s 52ms/step - loss: 0.0602 - accuracy: 0.9804 - val_loss: 0.0408 - val_accuracy: 0.9882\n",
      "Epoch 6/15\n",
      "422/422 [==============================] - 21s 50ms/step - loss: 0.0562 - accuracy: 0.9828 - val_loss: 0.0372 - val_accuracy: 0.9905\n",
      "Epoch 7/15\n",
      "422/422 [==============================] - 21s 49ms/step - loss: 0.0505 - accuracy: 0.9845 - val_loss: 0.0339 - val_accuracy: 0.9900\n",
      "Epoch 8/15\n",
      "422/422 [==============================] - 18s 42ms/step - loss: 0.0454 - accuracy: 0.9856 - val_loss: 0.0317 - val_accuracy: 0.9912\n",
      "Epoch 9/15\n",
      "422/422 [==============================] - 18s 42ms/step - loss: 0.0440 - accuracy: 0.9862 - val_loss: 0.0330 - val_accuracy: 0.9903\n",
      "Epoch 10/15\n",
      "422/422 [==============================] - 18s 42ms/step - loss: 0.0396 - accuracy: 0.9877 - val_loss: 0.0315 - val_accuracy: 0.9913\n",
      "Epoch 11/15\n",
      "422/422 [==============================] - 18s 43ms/step - loss: 0.0390 - accuracy: 0.9874 - val_loss: 0.0317 - val_accuracy: 0.9905\n",
      "Epoch 12/15\n",
      "422/422 [==============================] - 19s 45ms/step - loss: 0.0362 - accuracy: 0.9881 - val_loss: 0.0292 - val_accuracy: 0.9910\n",
      "Epoch 13/15\n",
      "422/422 [==============================] - 19s 45ms/step - loss: 0.0349 - accuracy: 0.9883 - val_loss: 0.0288 - val_accuracy: 0.9920\n",
      "Epoch 14/15\n",
      "422/422 [==============================] - 20s 48ms/step - loss: 0.0338 - accuracy: 0.9888 - val_loss: 0.0307 - val_accuracy: 0.9910\n",
      "Epoch 15/15\n",
      "422/422 [==============================] - 21s 50ms/step - loss: 0.0309 - accuracy: 0.9900 - val_loss: 0.0291 - val_accuracy: 0.9920\n"
     ]
    },
    {
     "data": {
      "text/plain": [
       "<keras.src.callbacks.History at 0x23ab0bfbad0>"
      ]
     },
     "execution_count": 4,
     "metadata": {},
     "output_type": "execute_result"
    }
   ],
   "source": [
    "batch_size = 128\n",
    "epochs = 15\n",
    "\n",
    "model.compile(loss=\"categorical_crossentropy\", optimizer=\"adam\", metrics=[\"accuracy\"])\n",
    "\n",
    "model.fit(x_train, y_train, batch_size=batch_size, epochs=epochs, validation_split=0.1)"
   ]
  },
  {
   "cell_type": "code",
   "execution_count": 5,
   "id": "47c7abe2",
   "metadata": {},
   "outputs": [
    {
     "name": "stdout",
     "output_type": "stream",
     "text": [
      "Test loss: 0.023849068209528923\n",
      "Test accuracy: 0.9914000034332275\n"
     ]
    }
   ],
   "source": [
    "score = model.evaluate(x_test, y_test, verbose=0)\n",
    "print(\"Test loss:\", score[0])\n",
    "print(\"Test accuracy:\", score[1])"
   ]
  },
  {
   "cell_type": "code",
   "execution_count": 7,
   "id": "cace2e5c",
   "metadata": {
    "scrolled": true
   },
   "outputs": [
    {
     "name": "stdout",
     "output_type": "stream",
     "text": [
      "Model: \"sequential_1\"\n",
      "_________________________________________________________________\n",
      " Layer (type)                Output Shape              Param #   \n",
      "=================================================================\n",
      " conv2d_3 (Conv2D)           (None, 26, 26, 32)        320       \n",
      "                                                                 \n",
      " max_pooling2d_2 (MaxPoolin  (None, 13, 13, 32)        0         \n",
      " g2D)                                                            \n",
      "                                                                 \n",
      " conv2d_4 (Conv2D)           (None, 11, 11, 64)        18496     \n",
      "                                                                 \n",
      " max_pooling2d_3 (MaxPoolin  (None, 5, 5, 64)          0         \n",
      " g2D)                                                            \n",
      "                                                                 \n",
      " conv2d_5 (Conv2D)           (None, 3, 3, 128)         73856     \n",
      "                                                                 \n",
      " batch_normalization (Batch  (None, 3, 3, 128)         512       \n",
      " Normalization)                                                  \n",
      "                                                                 \n",
      " max_pooling2d_4 (MaxPoolin  (None, 1, 1, 128)         0         \n",
      " g2D)                                                            \n",
      "                                                                 \n",
      " flatten_1 (Flatten)         (None, 128)               0         \n",
      "                                                                 \n",
      " dropout_1 (Dropout)         (None, 128)               0         \n",
      "                                                                 \n",
      " dense_1 (Dense)             (None, 64)                8256      \n",
      "                                                                 \n",
      " dropout_2 (Dropout)         (None, 64)                0         \n",
      "                                                                 \n",
      " dense_2 (Dense)             (None, 10)                650       \n",
      "                                                                 \n",
      "=================================================================\n",
      "Total params: 102090 (398.79 KB)\n",
      "Trainable params: 101834 (397.79 KB)\n",
      "Non-trainable params: 256 (1.00 KB)\n",
      "_________________________________________________________________\n"
     ]
    }
   ],
   "source": [
    "# Adjusting the model architecture for fine-tuning \n",
    "model = keras.Sequential([\n",
    "    keras.Input(shape=input_shape),\n",
    "    layers.Conv2D(32, kernel_size=(3, 3), activation=\"relu\"),\n",
    "    layers.MaxPooling2D(pool_size=(2, 2)),\n",
    "    layers.Conv2D(64, kernel_size=(3, 3), activation=\"relu\"),\n",
    "    layers.MaxPooling2D(pool_size=(2, 2)),\n",
    "    # Additional Conv2D and BatchNormalization layers\n",
    "    layers.Conv2D(128, kernel_size=(3, 3), activation=\"relu\"),\n",
    "    layers.BatchNormalization(),\n",
    "    layers.MaxPooling2D(pool_size=(2, 2)),\n",
    "    # Flattening once before Dense layers\n",
    "    layers.Flatten(),\n",
    "    layers.Dropout(0.4),  # Adjusted dropout rate\n",
    "    layers.Dense(64, activation=\"relu\"),\n",
    "    layers.Dropout(0.4),\n",
    "    layers.Dense(num_classes, activation=\"softmax\"),\n",
    "])\n",
    "\n",
    "# Showing the model summary to inspect the architecture\n",
    "model.summary()"
   ]
  },
  {
   "cell_type": "code",
   "execution_count": 8,
   "id": "bc95d316",
   "metadata": {
    "scrolled": true
   },
   "outputs": [
    {
     "name": "stdout",
     "output_type": "stream",
     "text": [
      "Epoch 1/15\n",
      "422/422 [==============================] - 24s 52ms/step - loss: 0.3983 - accuracy: 0.8743 - val_loss: 0.1259 - val_accuracy: 0.9775\n",
      "Epoch 2/15\n",
      "422/422 [==============================] - 21s 49ms/step - loss: 0.1333 - accuracy: 0.9619 - val_loss: 0.0532 - val_accuracy: 0.9837\n",
      "Epoch 3/15\n",
      "422/422 [==============================] - 20s 47ms/step - loss: 0.1015 - accuracy: 0.9709 - val_loss: 0.0571 - val_accuracy: 0.9832\n",
      "Epoch 4/15\n",
      "422/422 [==============================] - 20s 47ms/step - loss: 0.0850 - accuracy: 0.9749 - val_loss: 0.0612 - val_accuracy: 0.9825\n",
      "Epoch 5/15\n",
      "422/422 [==============================] - 22s 51ms/step - loss: 0.0703 - accuracy: 0.9791 - val_loss: 0.0544 - val_accuracy: 0.9852\n",
      "Epoch 6/15\n",
      "422/422 [==============================] - 23s 55ms/step - loss: 0.0627 - accuracy: 0.9814 - val_loss: 0.0407 - val_accuracy: 0.9890\n",
      "Epoch 7/15\n",
      "422/422 [==============================] - 22s 53ms/step - loss: 0.0578 - accuracy: 0.9832 - val_loss: 0.0472 - val_accuracy: 0.9865\n",
      "Epoch 8/15\n",
      "422/422 [==============================] - 23s 53ms/step - loss: 0.0506 - accuracy: 0.9848 - val_loss: 0.0410 - val_accuracy: 0.9883\n",
      "Epoch 9/15\n",
      "422/422 [==============================] - 25s 60ms/step - loss: 0.0481 - accuracy: 0.9855 - val_loss: 0.0389 - val_accuracy: 0.9893\n",
      "Epoch 10/15\n",
      "422/422 [==============================] - 22s 53ms/step - loss: 0.0416 - accuracy: 0.9878 - val_loss: 0.0445 - val_accuracy: 0.9885\n",
      "Epoch 11/15\n",
      "422/422 [==============================] - 23s 55ms/step - loss: 0.0377 - accuracy: 0.9891 - val_loss: 0.0424 - val_accuracy: 0.9893\n",
      "Epoch 12/15\n",
      "422/422 [==============================] - 23s 55ms/step - loss: 0.0374 - accuracy: 0.9888 - val_loss: 0.0420 - val_accuracy: 0.9902\n",
      "Epoch 13/15\n",
      "422/422 [==============================] - 21s 50ms/step - loss: 0.0355 - accuracy: 0.9896 - val_loss: 0.0448 - val_accuracy: 0.9885\n",
      "Epoch 14/15\n",
      "422/422 [==============================] - 22s 52ms/step - loss: 0.0343 - accuracy: 0.9893 - val_loss: 0.0372 - val_accuracy: 0.9910\n",
      "Epoch 15/15\n",
      "422/422 [==============================] - 21s 50ms/step - loss: 0.0324 - accuracy: 0.9901 - val_loss: 0.0403 - val_accuracy: 0.9898\n"
     ]
    },
    {
     "data": {
      "text/plain": [
       "<keras.src.callbacks.History at 0x23ab0eba450>"
      ]
     },
     "execution_count": 8,
     "metadata": {},
     "output_type": "execute_result"
    }
   ],
   "source": [
    "# Re-compiling the model\n",
    "model.compile(loss=\"categorical_crossentropy\", optimizer=\"adam\", metrics=[\"accuracy\"])\n",
    "\n",
    "# Re-training the model\n",
    "model.fit(x_train, y_train, batch_size=batch_size, epochs=epochs, validation_split=0.1)"
   ]
  },
  {
   "cell_type": "code",
   "execution_count": 9,
   "id": "4b9ed6dd",
   "metadata": {},
   "outputs": [
    {
     "name": "stdout",
     "output_type": "stream",
     "text": [
      "Fine-tuned model test loss: 0.04964873194694519\n",
      "Fine-tuned model test accuracy: 0.9884999990463257\n"
     ]
    }
   ],
   "source": [
    "# Re-evaluating the model\n",
    "score = model.evaluate(x_test, y_test, verbose=0)\n",
    "print(\"Fine-tuned model test loss:\", score[0])\n",
    "print(\"Fine-tuned model test accuracy:\", score[1])"
   ]
  },
  {
   "cell_type": "code",
   "execution_count": 10,
   "id": "fd7328b1",
   "metadata": {},
   "outputs": [
    {
     "name": "stdout",
     "output_type": "stream",
     "text": [
      "Epoch 1/15\n",
      "422/422 [==============================] - ETA: 0s - loss: 0.0273 - accuracy: 0.9914\n",
      "Epoch 1: val_accuracy improved from -inf to 0.99017, saving model to practice_model.hdf5\n"
     ]
    },
    {
     "name": "stderr",
     "output_type": "stream",
     "text": [
      "C:\\Users\\shane\\anaconda3\\Lib\\site-packages\\keras\\src\\engine\\training.py:3103: UserWarning: You are saving your model as an HDF5 file via `model.save()`. This file format is considered legacy. We recommend using instead the native Keras format, e.g. `model.save('my_model.keras')`.\n",
      "  saving_api.save_model(\n"
     ]
    },
    {
     "name": "stdout",
     "output_type": "stream",
     "text": [
      "422/422 [==============================] - 17s 36ms/step - loss: 0.0273 - accuracy: 0.9914 - val_loss: 0.0378 - val_accuracy: 0.9902\n",
      "Epoch 2/15\n",
      "422/422 [==============================] - ETA: 0s - loss: 0.0290 - accuracy: 0.9906\n",
      "Epoch 2: val_accuracy did not improve from 0.99017\n",
      "422/422 [==============================] - 12s 28ms/step - loss: 0.0290 - accuracy: 0.9906 - val_loss: 0.0453 - val_accuracy: 0.9877\n",
      "Epoch 3/15\n",
      "421/422 [============================>.] - ETA: 0s - loss: 0.0243 - accuracy: 0.9927\n",
      "Epoch 3: val_accuracy improved from 0.99017 to 0.99233, saving model to practice_model.hdf5\n",
      "422/422 [==============================] - 12s 28ms/step - loss: 0.0242 - accuracy: 0.9927 - val_loss: 0.0367 - val_accuracy: 0.9923\n",
      "Epoch 4/15\n",
      "422/422 [==============================] - ETA: 0s - loss: 0.0239 - accuracy: 0.9924\n",
      "Epoch 4: val_accuracy did not improve from 0.99233\n",
      "422/422 [==============================] - 12s 29ms/step - loss: 0.0239 - accuracy: 0.9924 - val_loss: 0.0422 - val_accuracy: 0.9907\n",
      "Epoch 5/15\n",
      "421/422 [============================>.] - ETA: 0s - loss: 0.0250 - accuracy: 0.9924\n",
      "Epoch 5: val_accuracy did not improve from 0.99233\n",
      "422/422 [==============================] - 12s 29ms/step - loss: 0.0250 - accuracy: 0.9924 - val_loss: 0.0444 - val_accuracy: 0.9910\n",
      "Epoch 6/15\n",
      "420/422 [============================>.] - ETA: 0s - loss: 0.0226 - accuracy: 0.9928\n",
      "Epoch 6: val_accuracy did not improve from 0.99233\n",
      "Restoring model weights from the end of the best epoch: 3.\n",
      "422/422 [==============================] - 12s 29ms/step - loss: 0.0225 - accuracy: 0.9928 - val_loss: 0.0430 - val_accuracy: 0.9898\n",
      "Epoch 6: early stopping\n",
      "Practice model test loss: 0.0506124384701252\n",
      "Practice model test accuracy: 0.9884999990463257\n"
     ]
    }
   ],
   "source": [
    "from keras.callbacks import ModelCheckpoint, EarlyStopping\n",
    "\n",
    "# Define the checkpoint and early stopping with the new file name\n",
    "checkpoint_path = \"practice_model.hdf5\"  # Updated file path to save the best model\n",
    "checkpoint = ModelCheckpoint(filepath=checkpoint_path, \n",
    "                             monitor='val_accuracy', \n",
    "                             verbose=1, \n",
    "                             save_best_only=True, \n",
    "                             mode='max')\n",
    "\n",
    "early_stopping = EarlyStopping(monitor='val_loss', \n",
    "                               patience=3, \n",
    "                               verbose=1, \n",
    "                               mode='min', \n",
    "                               restore_best_weights=True)\n",
    "\n",
    "# Add callbacks to the training call\n",
    "history = model.fit(x_train, y_train, \n",
    "                    batch_size=batch_size, \n",
    "                    epochs=epochs, \n",
    "                    validation_split=0.1,\n",
    "                    callbacks=[checkpoint, early_stopping])\n",
    "\n",
    "# After training, if you wish to load the best model (now named \"practice_model\"), do:\n",
    "# model.load_weights(checkpoint_path)\n",
    "\n",
    "# Evaluate the best (practice) model\n",
    "score = model.evaluate(x_test, y_test, verbose=0)\n",
    "print(\"Practice model test loss:\", score[0])\n",
    "print(\"Practice model test accuracy:\", score[1])"
   ]
  },
  {
   "cell_type": "code",
   "execution_count": 11,
   "id": "59d6ac9b",
   "metadata": {},
   "outputs": [],
   "source": [
    "from keras.preprocessing.image import ImageDataGenerator\n",
    "\n",
    "# Create an instance of ImageDataGenerator with desired augmentations\n",
    "datagen = ImageDataGenerator(\n",
    "    rotation_range=10,  # Random rotations in degrees\n",
    "    zoom_range=0.01,  # Random zoom\n",
    "    width_shift_range=0.1,  # Random horizontal shifts\n",
    "    height_shift_range=0.1,  # Random vertical shifts\n",
    ")\n",
    "\n",
    "# Fit the generator to your data\n",
    "datagen.fit(x_train)"
   ]
  },
  {
   "cell_type": "code",
   "execution_count": 12,
   "id": "d43d0a9e",
   "metadata": {},
   "outputs": [
    {
     "name": "stdout",
     "output_type": "stream",
     "text": [
      "Epoch 1/15\n",
      "469/469 [==============================] - ETA: 0s - loss: 0.2042 - accuracy: 0.9408\n",
      "Epoch 1: val_accuracy did not improve from 0.99233\n",
      "469/469 [==============================] - 26s 52ms/step - loss: 0.2042 - accuracy: 0.9408 - val_loss: 0.0510 - val_accuracy: 0.9832\n",
      "Epoch 2/15\n",
      "469/469 [==============================] - ETA: 0s - loss: 0.1474 - accuracy: 0.9567\n",
      "Epoch 2: val_accuracy did not improve from 0.99233\n",
      "469/469 [==============================] - 23s 50ms/step - loss: 0.1474 - accuracy: 0.9567 - val_loss: 0.0362 - val_accuracy: 0.9890\n",
      "Epoch 3/15\n",
      "469/469 [==============================] - ETA: 0s - loss: 0.1356 - accuracy: 0.9609\n",
      "Epoch 3: val_accuracy did not improve from 0.99233\n",
      "469/469 [==============================] - 23s 49ms/step - loss: 0.1356 - accuracy: 0.9609 - val_loss: 0.0363 - val_accuracy: 0.9883\n",
      "Epoch 4/15\n",
      "469/469 [==============================] - ETA: 0s - loss: 0.1211 - accuracy: 0.9639\n",
      "Epoch 4: val_accuracy did not improve from 0.99233\n",
      "469/469 [==============================] - 23s 49ms/step - loss: 0.1211 - accuracy: 0.9639 - val_loss: 0.0592 - val_accuracy: 0.9797\n",
      "Epoch 5/15\n",
      "469/469 [==============================] - ETA: 0s - loss: 0.1136 - accuracy: 0.9663\n",
      "Epoch 5: val_accuracy did not improve from 0.99233\n",
      "Restoring model weights from the end of the best epoch: 2.\n",
      "469/469 [==============================] - 23s 49ms/step - loss: 0.1136 - accuracy: 0.9663 - val_loss: 0.0527 - val_accuracy: 0.9820\n",
      "Epoch 5: early stopping\n"
     ]
    },
    {
     "data": {
      "text/plain": [
       "<keras.src.callbacks.History at 0x23abaf4a390>"
      ]
     },
     "execution_count": 12,
     "metadata": {},
     "output_type": "execute_result"
    }
   ],
   "source": [
    "model.fit(datagen.flow(x_train, y_train, batch_size=batch_size),\n",
    "          epochs=epochs,\n",
    "          validation_data=(x_test, y_test),\n",
    "          callbacks=[checkpoint, early_stopping])"
   ]
  },
  {
   "cell_type": "code",
   "execution_count": 13,
   "id": "a02d8092",
   "metadata": {},
   "outputs": [
    {
     "name": "stdout",
     "output_type": "stream",
     "text": [
      "Epoch 1/15\n",
      "469/469 [==============================] - ETA: 0s - loss: 0.1339 - accuracy: 0.9611\n",
      "Epoch 1: val_accuracy did not improve from 0.99233\n",
      "469/469 [==============================] - 24s 51ms/step - loss: 0.1339 - accuracy: 0.9611 - val_loss: 0.0367 - val_accuracy: 0.9876\n",
      "Epoch 2/15\n",
      "469/469 [==============================] - ETA: 0s - loss: 0.1233 - accuracy: 0.9642\n",
      "Epoch 2: val_accuracy did not improve from 0.99233\n",
      "469/469 [==============================] - 23s 49ms/step - loss: 0.1233 - accuracy: 0.9642 - val_loss: 0.0382 - val_accuracy: 0.9873\n",
      "Epoch 3/15\n",
      "468/469 [============================>.] - ETA: 0s - loss: 0.1167 - accuracy: 0.9661\n",
      "Epoch 3: val_accuracy did not improve from 0.99233\n",
      "469/469 [==============================] - 24s 51ms/step - loss: 0.1167 - accuracy: 0.9661 - val_loss: 0.0380 - val_accuracy: 0.9882\n",
      "Epoch 4/15\n",
      "468/469 [============================>.] - ETA: 0s - loss: 0.1074 - accuracy: 0.9689\n",
      "Epoch 4: val_accuracy did not improve from 0.99233\n",
      "Restoring model weights from the end of the best epoch: 1.\n",
      "469/469 [==============================] - 23s 49ms/step - loss: 0.1073 - accuracy: 0.9689 - val_loss: 0.0413 - val_accuracy: 0.9861\n",
      "Epoch 4: early stopping\n"
     ]
    },
    {
     "data": {
      "text/plain": [
       "<keras.src.callbacks.History at 0x23ad5ce8790>"
      ]
     },
     "execution_count": 13,
     "metadata": {},
     "output_type": "execute_result"
    }
   ],
   "source": [
    "model.fit(datagen.flow(x_train, y_train, batch_size=batch_size),\n",
    "          epochs=epochs,\n",
    "          validation_data=(x_test, y_test),\n",
    "          callbacks=[checkpoint, early_stopping])"
   ]
  },
  {
   "cell_type": "code",
   "execution_count": 15,
   "id": "13b9ca63",
   "metadata": {},
   "outputs": [],
   "source": [
    "from keras.models import load_model\n",
    "# Path to your saved model\n",
    "saved_model_path = 'practice_model.hdf5'\n",
    "\n",
    "# Load the saved model\n",
    "practice_model = load_model(saved_model_path)"
   ]
  },
  {
   "cell_type": "code",
   "execution_count": 16,
   "id": "293a2517",
   "metadata": {
    "scrolled": false
   },
   "outputs": [
    {
     "name": "stdout",
     "output_type": "stream",
     "text": [
      "Epoch 1/15\n",
      "422/422 [==============================] - 14s 31ms/step - loss: 0.0223 - accuracy: 0.9928 - val_loss: 0.0418 - val_accuracy: 0.9910\n",
      "Epoch 2/15\n",
      "422/422 [==============================] - 13s 30ms/step - loss: 0.0258 - accuracy: 0.9922 - val_loss: 0.0456 - val_accuracy: 0.9897\n",
      "Epoch 3/15\n",
      "422/422 [==============================] - 12s 29ms/step - loss: 0.0213 - accuracy: 0.9929 - val_loss: 0.0398 - val_accuracy: 0.9915\n",
      "Epoch 4/15\n",
      "422/422 [==============================] - 13s 30ms/step - loss: 0.0218 - accuracy: 0.9931 - val_loss: 0.0404 - val_accuracy: 0.9918\n",
      "Epoch 5/15\n",
      "422/422 [==============================] - 13s 30ms/step - loss: 0.0206 - accuracy: 0.9932 - val_loss: 0.0362 - val_accuracy: 0.9923\n",
      "Epoch 6/15\n",
      "422/422 [==============================] - 13s 31ms/step - loss: 0.0183 - accuracy: 0.9941 - val_loss: 0.0388 - val_accuracy: 0.9917\n",
      "Epoch 7/15\n",
      "422/422 [==============================] - 13s 32ms/step - loss: 0.0204 - accuracy: 0.9934 - val_loss: 0.0516 - val_accuracy: 0.9887\n",
      "Epoch 8/15\n",
      "422/422 [==============================] - 12s 29ms/step - loss: 0.0165 - accuracy: 0.9946 - val_loss: 0.0447 - val_accuracy: 0.9917\n",
      "Epoch 9/15\n",
      "422/422 [==============================] - 13s 30ms/step - loss: 0.0183 - accuracy: 0.9944 - val_loss: 0.0397 - val_accuracy: 0.9912\n",
      "Epoch 10/15\n",
      "422/422 [==============================] - 13s 30ms/step - loss: 0.0178 - accuracy: 0.9944 - val_loss: 0.0398 - val_accuracy: 0.9920\n",
      "Epoch 11/15\n",
      "422/422 [==============================] - 13s 32ms/step - loss: 0.0160 - accuracy: 0.9952 - val_loss: 0.0401 - val_accuracy: 0.9917\n",
      "Epoch 12/15\n",
      "422/422 [==============================] - 13s 32ms/step - loss: 0.0179 - accuracy: 0.9945 - val_loss: 0.0483 - val_accuracy: 0.9907\n",
      "Epoch 13/15\n",
      "422/422 [==============================] - 14s 33ms/step - loss: 0.0161 - accuracy: 0.9950 - val_loss: 0.0428 - val_accuracy: 0.9923\n",
      "Epoch 14/15\n",
      "422/422 [==============================] - 13s 32ms/step - loss: 0.0138 - accuracy: 0.9956 - val_loss: 0.0383 - val_accuracy: 0.9933\n",
      "Epoch 15/15\n",
      "422/422 [==============================] - 13s 32ms/step - loss: 0.0159 - accuracy: 0.9949 - val_loss: 0.0367 - val_accuracy: 0.9927\n"
     ]
    },
    {
     "data": {
      "text/plain": [
       "<keras.src.callbacks.History at 0x23ad8c6a190>"
      ]
     },
     "execution_count": 16,
     "metadata": {},
     "output_type": "execute_result"
    }
   ],
   "source": [
    "# Assuming you have x_train, y_train prepared and the same batch_size and epochs as before\n",
    "practice_model.fit(x_train, y_train, batch_size=batch_size, epochs=epochs, validation_split=0.1)"
   ]
  },
  {
   "cell_type": "code",
   "execution_count": 17,
   "id": "96580c8a",
   "metadata": {
    "scrolled": true
   },
   "outputs": [
    {
     "name": "stdout",
     "output_type": "stream",
     "text": [
      "Test loss: 0.053445182740688324\n",
      "Test accuracy: 0.9891999959945679\n",
      "313/313 [==============================] - 4s 4ms/step\n"
     ]
    }
   ],
   "source": [
    "# Evaluate the model\n",
    "score = practice_model.evaluate(x_test, y_test, verbose=0)\n",
    "print(\"Test loss:\", score[0])\n",
    "print(\"Test accuracy:\", score[1])\n",
    "\n",
    "# Make predictions\n",
    "predictions = practice_model.predict(x_test)"
   ]
  },
  {
   "cell_type": "code",
   "execution_count": 18,
   "id": "32459971",
   "metadata": {},
   "outputs": [],
   "source": [
    "training_history = practice_model.history"
   ]
  },
  {
   "cell_type": "code",
   "execution_count": 20,
   "id": "c75f1b05",
   "metadata": {
    "scrolled": true
   },
   "outputs": [
    {
     "data": {
      "image/png": "[encoded data removed]",
      "text/plain": [
       "<Figure size 640x480 with 1 Axes>"
      ]
     },
     "metadata": {},
     "output_type": "display_data"
    },
    {
     "data": {
      "image/png": "[encoded data removed]",
      "text/plain": [
       "<Figure size 640x480 with 1 Axes>"
      ]
     },
     "metadata": {},
     "output_type": "display_data"
    }
   ],
   "source": [
    "import matplotlib.pyplot as plt\n",
    "\n",
    "# First, ensure you access the history attribute of the History object\n",
    "training_history_dict = history.history\n",
    "\n",
    "# Plot training & validation accuracy values\n",
    "plt.plot(training_history_dict['accuracy'])\n",
    "plt.plot(training_history_dict['val_accuracy'])\n",
    "plt.title('Model accuracy')\n",
    "plt.ylabel('Accuracy')\n",
    "plt.xlabel('Epoch')\n",
    "plt.legend(['Train', 'Val'], loc='upper left')  # Changed 'Test' to 'Val' for clarity\n",
    "plt.show()\n",
    "\n",
    "# Plot training & validation loss values\n",
    "plt.plot(training_history_dict['loss'])\n",
    "plt.plot(training_history_dict['val_loss'])\n",
    "plt.title('Model loss')\n",
    "plt.ylabel('Loss')\n",
    "plt.xlabel('Epoch')\n",
    "plt.legend(['Train', 'Val'], loc='upper left')  # Changed 'Test' to 'Val' for clarity\n",
    "plt.show()"
   ]
  }
 ],
 "metadata": {
  "kernelspec": {
   "display_name": "Python 3 (ipykernel)",
   "language": "python",
   "name": "python3"
  },
  "language_info": {
   "codemirror_mode": {
    "name": "ipython",
    "version": 3
   },
   "file_extension": ".py",
   "mimetype": "text/x-python",
   "name": "python",
   "nbconvert_exporter": "python",
   "pygments_lexer": "ipython3",
   "version": "3.11.4"
  }
 },
 "nbformat": 4,
 "nbformat_minor": 5
}
